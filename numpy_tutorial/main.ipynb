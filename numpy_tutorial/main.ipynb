{
 "cells": [
  {
   "cell_type": "markdown",
   "metadata": {},
   "source": [
    "### Install and Import"
   ]
  },
  {
   "cell_type": "code",
   "execution_count": 47,
   "metadata": {},
   "outputs": [
    {
     "name": "stdout",
     "output_type": "stream",
     "text": [
      "Requirement already satisfied: numpy in /Users/shashankkatiyar/miniforge3/envs/geno/lib/python3.7/site-packages (1.21.6)\n",
      "Note: you may need to restart the kernel to use updated packages.\n"
     ]
    }
   ],
   "source": [
    "# if using a conda environment, ensure that while running the notebook, the kernel corresponding to that \n",
    "# conda environment is selected\n",
    "\n",
    "# install\n",
    "%pip install numpy"
   ]
  },
  {
   "cell_type": "code",
   "execution_count": 48,
   "metadata": {},
   "outputs": [],
   "source": [
    "# importing the numpy package with an alias np\n",
    "import numpy as np"
   ]
  },
  {
   "cell_type": "markdown",
   "metadata": {},
   "source": [
    "### Introduction"
   ]
  },
  {
   "cell_type": "code",
   "execution_count": 49,
   "metadata": {},
   "outputs": [
    {
     "name": "stdout",
     "output_type": "stream",
     "text": [
      "[1 2 3] <class 'numpy.ndarray'>\n"
     ]
    }
   ],
   "source": [
    "array_basic = np.array([1,2,3]) # create a simple, one dimensional array\n",
    "print(array_basic, type(array_basic)) # see how array looks like and what its type is"
   ]
  },
  {
   "cell_type": "code",
   "execution_count": 50,
   "metadata": {},
   "outputs": [
    {
     "name": "stdout",
     "output_type": "stream",
     "text": [
      "[[1 2 3]\n",
      " [3 4 5]]\n",
      "<class 'numpy.ndarray'>\n"
     ]
    }
   ],
   "source": [
    "array_2dims = np.array([[1,2,3],[3,4,5]]) # this is a 2 dimensional array\n",
    "print(array_2dims)\n",
    "print(type(array_2dims))"
   ]
  },
  {
   "cell_type": "code",
   "execution_count": 51,
   "metadata": {},
   "outputs": [
    {
     "name": "stdout",
     "output_type": "stream",
     "text": [
      "[1. 2.]\n",
      "<class 'numpy.ndarray'>\n"
     ]
    }
   ],
   "source": [
    "array_float = np.array([1.0,2.0]) # an array with float values\n",
    "print(array_float)\n",
    "print(type(array_float))"
   ]
  },
  {
   "cell_type": "code",
   "execution_count": 52,
   "metadata": {},
   "outputs": [
    {
     "name": "stdout",
     "output_type": "stream",
     "text": [
      "(3,)\n",
      "3\n",
      "1\n",
      "(2, 3)\n",
      "6\n",
      "2\n"
     ]
    }
   ],
   "source": [
    "# Getting to know the size and shape of an array\n",
    "print(array_basic.shape)\n",
    "print(array_basic.size) # size method indicates the number of entries in the array\n",
    "print(array_basic.ndim)\n",
    "print(array_2dims.shape)\n",
    "print(array_2dims.size)\n",
    "print(array_2dims.ndim)"
   ]
  },
  {
   "cell_type": "code",
   "execution_count": 53,
   "metadata": {},
   "outputs": [
    {
     "name": "stdout",
     "output_type": "stream",
     "text": [
      "int64\n",
      "int64\n",
      "float64\n"
     ]
    }
   ],
   "source": [
    "# Also know the type of data in a numpy array (not the type of the numpy array itself, which we were seeing above using the type() function)\n",
    "print(array_basic.dtype)\n",
    "print(array_2dims.dtype)\n",
    "print(array_float.dtype)\n",
    "\n",
    "# Note: when we created the array, the datatype was decided upon by numpy by looking at the entries in the array."
   ]
  },
  {
   "cell_type": "code",
   "execution_count": 54,
   "metadata": {},
   "outputs": [],
   "source": [
    "# However, we can also specify the datatype ourselves while initializing the array\n",
    "array_int16 = np.array([1,2,3], dtype=\"int16\")\n",
    "\n",
    "# Note: if we know that a certain array will not contain very large values, say within -32767 till +32767\n",
    "# which is the limit of int16, we can intialize with that datatype, and processing it will be faster than \n",
    "# what would be with int64, which is the default choice by numpy."
   ]
  },
  {
   "cell_type": "code",
   "execution_count": 55,
   "metadata": {},
   "outputs": [
    {
     "name": "stdout",
     "output_type": "stream",
     "text": [
      "8\n",
      "2\n"
     ]
    }
   ],
   "source": [
    "# we can get the number of bytes in memory consumed by each entry in a numpy array\n",
    "print(array_basic.itemsize)\n",
    "print(array_int16.itemsize)\n",
    "\n",
    "# Note: Remember that int16 means that every value in it takes 16 bits, meaning 2 bytes (as 8 bits compose a byte)"
   ]
  },
  {
   "cell_type": "markdown",
   "metadata": {},
   "source": [
    "### Accessing array elements"
   ]
  },
  {
   "cell_type": "code",
   "execution_count": 56,
   "metadata": {},
   "outputs": [
    {
     "data": {
      "text/plain": [
       "1"
      ]
     },
     "execution_count": 56,
     "metadata": {},
     "output_type": "execute_result"
    }
   ],
   "source": [
    "# Can access specific row and column of an array using a syntax like: array[row, col]. Remember that indexing starts from 0, so first row/col is 0th row/col.\n",
    "\n",
    "array_2dims[0,0] # should return first row first col element, i.e. 1"
   ]
  },
  {
   "cell_type": "code",
   "execution_count": 57,
   "metadata": {},
   "outputs": [
    {
     "data": {
      "text/plain": [
       "array([3, 4, 5])"
      ]
     },
     "execution_count": 57,
     "metadata": {},
     "output_type": "execute_result"
    }
   ],
   "source": [
    "# Can also access whole row or column, by using colon sign in place of the row/col identifier.\n",
    "\n",
    "array_2dims[1, :] # should return the row with index 1, as all the columns have been selected using colon"
   ]
  },
  {
   "cell_type": "code",
   "execution_count": 58,
   "metadata": {},
   "outputs": [
    {
     "data": {
      "text/plain": [
       "array([1, 2])"
      ]
     },
     "execution_count": 58,
     "metadata": {},
     "output_type": "execute_result"
    }
   ],
   "source": [
    "# Can also select elements at a certain gap between them, like: array[row, col_start:col_end:gap]\n",
    "\n",
    "array_2dims[0, 0:2:1]"
   ]
  },
  {
   "cell_type": "markdown",
   "metadata": {},
   "source": [
    "### Modifying array elements and array type"
   ]
  },
  {
   "cell_type": "code",
   "execution_count": 59,
   "metadata": {},
   "outputs": [
    {
     "name": "stdout",
     "output_type": "stream",
     "text": [
      "[[1 2 3]\n",
      " [3 4 5]]\n",
      "[[1 2 3]\n",
      " [3 4 9]]\n"
     ]
    }
   ],
   "source": [
    "# Can simply modify elements in the following fashion:\n",
    "print(array_2dims) # the how the array looked previously\n",
    "array_2dims[1,2] = 9\n",
    "print(array_2dims) # how it looks like after the value update"
   ]
  },
  {
   "cell_type": "code",
   "execution_count": 60,
   "metadata": {},
   "outputs": [
    {
     "data": {
      "text/plain": [
       "array([[1, 2, 3],\n",
       "       [3, 2, 9]])"
      ]
     },
     "execution_count": 60,
     "metadata": {},
     "output_type": "execute_result"
    }
   ],
   "source": [
    "# Can also do modifications like we accessed the array's whole row/col\n",
    "array_2dims[:, 1] = 2 # changes every entry in second col to 2\n",
    "array_2dims"
   ]
  },
  {
   "cell_type": "code",
   "execution_count": 119,
   "metadata": {},
   "outputs": [
    {
     "data": {
      "text/plain": [
       "array([[1., 2., 3.],\n",
       "       [3., 2., 9.]])"
      ]
     },
     "execution_count": 119,
     "metadata": {},
     "output_type": "execute_result"
    }
   ],
   "source": [
    "# can also change array type using astype function\n",
    "\n",
    "array_2dims.astype(\"float64\") # But remember that this creates a copy of the original array, so will have to do somthing like: array_2dims = array_2dims.astype(\"float64\")"
   ]
  },
  {
   "cell_type": "markdown",
   "metadata": {},
   "source": [
    "### Initializing different types of arrays"
   ]
  },
  {
   "cell_type": "code",
   "execution_count": 63,
   "metadata": {},
   "outputs": [
    {
     "name": "stdout",
     "output_type": "stream",
     "text": [
      "[[0. 0. 0. 0. 0.]\n",
      " [0. 0. 0. 0. 0.]\n",
      " [0. 0. 0. 0. 0.]\n",
      " [0. 0. 0. 0. 0.]] (4, 5)\n"
     ]
    }
   ],
   "source": [
    "# An array composed of (zeros (very useful to know)\n",
    "# Create a 4x5 matrix of zeroes\n",
    "array_zeros = np.zeros((4,5)) # Notice the double brackets, to indicate that the (4,5) is just one argument of the np.zeros function \n",
    "print(array_zeros, array_zeros.shape)"
   ]
  },
  {
   "cell_type": "code",
   "execution_count": 64,
   "metadata": {},
   "outputs": [
    {
     "name": "stdout",
     "output_type": "stream",
     "text": [
      "[[1. 1. 1. 1. 1.]\n",
      " [1. 1. 1. 1. 1.]\n",
      " [1. 1. 1. 1. 1.]\n",
      " [1. 1. 1. 1. 1.]]\n"
     ]
    }
   ],
   "source": [
    "# Very similar to previous, can make a ones matrix\n",
    "array_ones = np.ones((4,5))\n",
    "print(array_ones)"
   ]
  },
  {
   "cell_type": "code",
   "execution_count": 66,
   "metadata": {},
   "outputs": [
    {
     "name": "stdout",
     "output_type": "stream",
     "text": [
      "[[2 2 2 2 2]\n",
      " [2 2 2 2 2]\n",
      " [2 2 2 2 2]\n",
      " [2 2 2 2 2]]\n"
     ]
    }
   ],
   "source": [
    "# For any number, use np.full\n",
    "array_twos = np.full((4,5), 2) # the second argument (2), is the number which we want every entry in the array to be equal to\n",
    "print(array_twos)"
   ]
  },
  {
   "cell_type": "code",
   "execution_count": 69,
   "metadata": {},
   "outputs": [
    {
     "name": "stdout",
     "output_type": "stream",
     "text": [
      "[[0.45764008 0.93459526 0.04193301 0.40508028 0.3684482 ]\n",
      " [0.84374379 0.06678458 0.63007489 0.70730883 0.52941534]\n",
      " [0.13807703 0.89165111 0.24612214 0.63372279 0.7400107 ]\n",
      " [0.71170016 0.20484818 0.27605595 0.31823257 0.04926966]]\n"
     ]
    }
   ],
   "source": [
    "# To create an array of random float64 values\n",
    "array_rands = np.random.rand(4,5) # Notice that here we don't use double brackets, because the function is designed a bit differently\n",
    "print(array_rands)"
   ]
  },
  {
   "cell_type": "code",
   "execution_count": 71,
   "metadata": {},
   "outputs": [
    {
     "name": "stdout",
     "output_type": "stream",
     "text": [
      "[[7 2 1 4 7]\n",
      " [4 1 3 3 3]\n",
      " [8 7 8 2 6]\n",
      " [5 3 8 2 3]]\n"
     ]
    }
   ],
   "source": [
    "# To create an array of random ints the syntax is: np.random.randint(lower_limit, upper_limit, size=(dim1, dim2...))\n",
    "array_randints = np.random.randint(1,9, size=(4,5)) # Note that the function name itself changed, rather than an argument\n",
    "print(array_randints)"
   ]
  },
  {
   "cell_type": "code",
   "execution_count": 73,
   "metadata": {},
   "outputs": [
    {
     "name": "stdout",
     "output_type": "stream",
     "text": [
      "[[[0.95206785 0.94189088 0.29877279 0.85804352]\n",
      "  [0.64618784 0.81853388 0.15324921 0.09418391]\n",
      "  [0.21764902 0.18522765 0.19624737 0.62479186]\n",
      "  [0.97175958 0.23054867 0.52667101 0.46501316]\n",
      "  [0.77575746 0.4547242  0.01225287 0.47439717]]\n",
      "\n",
      " [[0.2939129  0.81599695 0.86223291 0.47087348]\n",
      "  [0.91131478 0.6833063  0.63955889 0.6704524 ]\n",
      "  [0.50497981 0.9990075  0.38540782 0.7040454 ]\n",
      "  [0.23654643 0.21690236 0.3305521  0.59575488]\n",
      "  [0.04361893 0.12154295 0.13777441 0.04815248]]\n",
      "\n",
      " [[0.10236607 0.01866216 0.13918772 0.7479766 ]\n",
      "  [0.57167764 0.26234913 0.12462935 0.87322879]\n",
      "  [0.79875133 0.37180727 0.18087981 0.42420728]\n",
      "  [0.39861963 0.63168838 0.39693706 0.70186783]\n",
      "  [0.64126111 0.89423964 0.07465024 0.60200509]]\n",
      "\n",
      " [[0.57598951 0.38658123 0.9337926  0.83469331]\n",
      "  [0.58921521 0.61873622 0.65337625 0.79988191]\n",
      "  [0.40562724 0.51559881 0.27417031 0.78793732]\n",
      "  [0.51306    0.37188484 0.11730508 0.16000257]\n",
      "  [0.34829083 0.17597351 0.00134373 0.58554749]]]\n"
     ]
    }
   ],
   "source": [
    "# Also note that all these things can be done with array with different dimensions too!\n",
    "# example, to create a random float array of 3 dimensions:\n",
    "array_rand3d = np.random.rand(4,5,4)\n",
    "print(array_rand3d)"
   ]
  },
  {
   "cell_type": "code",
   "execution_count": 75,
   "metadata": {},
   "outputs": [
    {
     "name": "stdout",
     "output_type": "stream",
     "text": [
      "[[1. 0. 0. 0.]\n",
      " [0. 1. 0. 0.]\n",
      " [0. 0. 1. 0.]\n",
      " [0. 0. 0. 1.]]\n"
     ]
    }
   ],
   "source": [
    "# Can also create identity matrix (remember linear algebra!) like follows:\n",
    "array_ident = np.identity(4)\n",
    "print(array_ident)"
   ]
  },
  {
   "cell_type": "markdown",
   "metadata": {},
   "source": [
    "### Precautions while copying arrays"
   ]
  },
  {
   "cell_type": "code",
   "execution_count": 76,
   "metadata": {},
   "outputs": [
    {
     "name": "stdout",
     "output_type": "stream",
     "text": [
      "[0. 0. 5. 0.]\n",
      "[0. 0. 5. 0.]\n"
     ]
    }
   ],
   "source": [
    "# Never copy arrays like this: array1 = array2, because then later if you modify array1, then it will also lead to modification of array2\n",
    "\n",
    "array_temp1 = np.zeros(4)\n",
    "array_temp2 = array_temp1\n",
    "\n",
    "array_temp2[2] = 5\n",
    "print(array_temp2)\n",
    "print(array_temp1) # ideally, this shouldve been all zeros, but it is not!"
   ]
  },
  {
   "cell_type": "code",
   "execution_count": 78,
   "metadata": {},
   "outputs": [
    {
     "name": "stdout",
     "output_type": "stream",
     "text": [
      "[0. 0. 5. 0.]\n",
      "[0. 0. 0. 0.]\n"
     ]
    }
   ],
   "source": [
    "# Instead copy arrays like:\n",
    "array_temp1 = np.zeros(4)\n",
    "array_temp2 = array_temp1.copy() # This .copy() will ensure that array_temp2 is an actual copy of array_temp1, rather than another name for the same thing\n",
    "\n",
    "array_temp2[2] = 5\n",
    "print(array_temp2)\n",
    "print(array_temp1) # now its the same as before"
   ]
  },
  {
   "cell_type": "markdown",
   "metadata": {},
   "source": [
    "### Maths on arrays"
   ]
  },
  {
   "cell_type": "code",
   "execution_count": 83,
   "metadata": {},
   "outputs": [
    {
     "name": "stdout",
     "output_type": "stream",
     "text": [
      "[[1 2 3]\n",
      " [3 2 9]]\n",
      "[[ 2  4  6]\n",
      " [ 6  4 18]]\n",
      "[[ 3  4  5]\n",
      " [ 5  4 11]]\n",
      "[[0.5 1.  1.5]\n",
      " [1.5 1.  4.5]]\n"
     ]
    }
   ],
   "source": [
    "# Elementwise operations on arrays, when we want to do something to each element of an array\n",
    "print(array_2dims)\n",
    "print(array_2dims * 2)\n",
    "print(array_2dims + 2)\n",
    "print(array_2dims / 2)"
   ]
  },
  {
   "cell_type": "code",
   "execution_count": 90,
   "metadata": {},
   "outputs": [
    {
     "name": "stdout",
     "output_type": "stream",
     "text": [
      "[[1 2 3]\n",
      " [3 2 9]]\n",
      "[[4 5 6]\n",
      " [7 6 5]]\n",
      "[[ 5  7  9]\n",
      " [10  8 14]]\n"
     ]
    }
   ],
   "source": [
    "# Operations among arrays\n",
    "print(array_2dims)\n",
    "array_2dims2 = np.array([[4,5,6],[7,6,5]])\n",
    "print(array_2dims2)\n",
    "array_2dims3 = array_2dims + array_2dims2\n",
    "print(array_2dims3)\n",
    "\n",
    "# Note: For doing such operations you need to ensure that the arrays are of the same dimensions "
   ]
  },
  {
   "cell_type": "markdown",
   "metadata": {},
   "source": [
    "### Linear Algebra"
   ]
  },
  {
   "cell_type": "code",
   "execution_count": 97,
   "metadata": {},
   "outputs": [
    {
     "name": "stdout",
     "output_type": "stream",
     "text": [
      "[[1. 1. 1. 1.]\n",
      " [1. 1. 1. 1.]\n",
      " [1. 1. 1. 1.]]\n",
      "[[2 2 2]\n",
      " [2 2 2]\n",
      " [2 2 2]\n",
      " [2 2 2]]\n",
      "[[8. 8. 8.]\n",
      " [8. 8. 8.]\n",
      " [8. 8. 8.]]\n"
     ]
    }
   ],
   "source": [
    "# Now lets do matrix multiplication (Remember that array1 * array2 will give us elementwise multiplication, which is not what we want)\n",
    " \n",
    "array_linalg1 = np.ones((3,4))\n",
    "array_linalg2 = np.full((4,3), 2) # Remember that we need the first's numcols equal to second's numrows\n",
    "\n",
    "print(array_linalg1)\n",
    "print(array_linalg2)\n",
    "\n",
    "array_mul_result = np.matmul(array_linalg1, array_linalg2) # this is the function numpy has to perform matrix multiplication\n",
    "print(array_mul_result)"
   ]
  },
  {
   "cell_type": "code",
   "execution_count": 100,
   "metadata": {},
   "outputs": [
    {
     "data": {
      "text/plain": [
       "0.0"
      ]
     },
     "execution_count": 100,
     "metadata": {},
     "output_type": "execute_result"
    }
   ],
   "source": [
    "# numpy also has a function to calculate the determinant of a matrix\n",
    "np.linalg.det(array_mul_result) # Remember that the matrix needs to be square to be able to calculate its determinant"
   ]
  },
  {
   "cell_type": "markdown",
   "metadata": {},
   "source": [
    "### Statistics"
   ]
  },
  {
   "cell_type": "code",
   "execution_count": 101,
   "metadata": {},
   "outputs": [
    {
     "name": "stdout",
     "output_type": "stream",
     "text": [
      "1\n",
      "9\n",
      "20\n"
     ]
    }
   ],
   "source": [
    "# Some simple statistics calculation on np arrays\n",
    "\n",
    "print(np.min(array_2dims)) # minimum of the whole array\n",
    "print(np.max(array_2dims)) # maximum of the whole array\n",
    "print(np.sum(array_2dims)) # sum of the whole array"
   ]
  },
  {
   "cell_type": "code",
   "execution_count": 104,
   "metadata": {},
   "outputs": [
    {
     "name": "stdout",
     "output_type": "stream",
     "text": [
      "[[1 2 3]\n",
      " [3 2 9]]\n",
      "[ 4  4 12]\n",
      "[ 6 14]\n"
     ]
    }
   ],
   "source": [
    "# Can also do stats at row/col level, using axis attribute of the stats functions\n",
    "# axis = 0 means vertical, and axis = 1 means horizontal\n",
    "\n",
    "print(array_2dims)\n",
    "print(np.sum(array_2dims, axis=0))\n",
    "print(np.sum(array_2dims, axis=1))\n",
    "\n",
    "# Similarly, one can use the min and max functions also"
   ]
  },
  {
   "cell_type": "markdown",
   "metadata": {},
   "source": [
    "### Combining Arrays"
   ]
  },
  {
   "cell_type": "code",
   "execution_count": 110,
   "metadata": {},
   "outputs": [
    {
     "name": "stdout",
     "output_type": "stream",
     "text": [
      "[[1 2 3]\n",
      " [3 2 9]]\n",
      "[[4 5 6]\n",
      " [7 6 5]]\n"
     ]
    },
    {
     "data": {
      "text/plain": [
       "array([[1, 2, 3],\n",
       "       [3, 2, 9],\n",
       "       [4, 5, 6],\n",
       "       [7, 6, 5]])"
      ]
     },
     "execution_count": 110,
     "metadata": {},
     "output_type": "execute_result"
    }
   ],
   "source": [
    "# Vertically stack two arrays (Need to have same number of columns)\n",
    "print(array_2dims)\n",
    "print(array_2dims2)\n",
    "\n",
    "np.vstack([array_2dims, array_2dims2]) # Notice the arrays are enclosed in square brackets"
   ]
  },
  {
   "cell_type": "code",
   "execution_count": 111,
   "metadata": {},
   "outputs": [
    {
     "data": {
      "text/plain": [
       "array([[1, 2, 3, 4, 5, 6],\n",
       "       [3, 2, 9, 7, 6, 5]])"
      ]
     },
     "execution_count": 111,
     "metadata": {},
     "output_type": "execute_result"
    }
   ],
   "source": [
    "# Horizontally stack two array (Need to have same number of rows)\n",
    "\n",
    "np.hstack([array_2dims, array_2dims2]) # Notice the arrays are enclosed in square brackets"
   ]
  },
  {
   "cell_type": "markdown",
   "metadata": {},
   "source": [
    "### Loading data from file"
   ]
  },
  {
   "cell_type": "code",
   "execution_count": 114,
   "metadata": {},
   "outputs": [
    {
     "name": "stdout",
     "output_type": "stream",
     "text": [
      "[[  1.  13.  21.  11. 196.  75.   4.   3.  34.   6.   7.   8.   0.   1.\n",
      "    2.   3.   4.   5.]\n",
      " [  3.  42.  12.  33. 766.  75.   4.  55.   6.   4.   3.   4.   5.   6.\n",
      "    7.   0.  11.  12.]\n",
      " [  1.  22.  33.  11. 999.  11.   2.   1.  78.   0.   1.   2.   9.   8.\n",
      "    7.   1.  76.  88.]]\n"
     ]
    }
   ],
   "source": [
    "# Read the data in data.txt in the current folder\n",
    "\n",
    "array_read = np.genfromtxt(\"data.txt\", delimiter=\",\") # delimiter (what separates cols in the data file) is comma in our case\n",
    "print(array_read)"
   ]
  },
  {
   "cell_type": "markdown",
   "metadata": {},
   "source": [
    "### Boolean Masking"
   ]
  },
  {
   "cell_type": "code",
   "execution_count": 146,
   "metadata": {},
   "outputs": [
    {
     "name": "stdout",
     "output_type": "stream",
     "text": [
      "[[  1.  13.  21.  11. 196.  75.   4.   3.  34.   6.   7.   8.   0.   1.\n",
      "    2.   3.   4.   5.]\n",
      " [  3.  42.  12.  33. 766.  75.   4.  55.   6.   4.   3.   4.   5.   6.\n",
      "    7.   0.  11.  12.]\n",
      " [  1.  22.  33.  11. 999.  11.   2.   1.  78.   0.   1.   2.   9.   8.\n",
      "    7.   1.  76.  88.]]\n",
      "[13. 13.]\n",
      "[[False False False False  True  True False False  True False False False\n",
      "  False False False False False False]\n",
      " [False  True False  True  True  True False  True False False False False\n",
      "  False False False False False False]\n",
      " [False False  True False  True False False False  True False False False\n",
      "  False False False False  True  True]]\n"
     ]
    },
    {
     "data": {
      "text/plain": [
       "array([196.,  75.,  34.,  42.,  33., 766.,  75.,  55.,  33., 999.,  78.,\n",
       "        76.,  88.])"
      ]
     },
     "execution_count": 146,
     "metadata": {},
     "output_type": "execute_result"
    }
   ],
   "source": [
    "# We can index an array in more interesting and flexible ways\n",
    "print(array_read)\n",
    "\n",
    "print(array_read[([0,0],[1,1])]) # the things inside the parenthesis are the indices which i want\n",
    "\n",
    "bool_mask = array_read > 30 # This creates a boolean mask on the array\n",
    "print(bool_mask) \n",
    "\n",
    "array_read[bool_mask] # Using this, we can filter the array's elements"
   ]
  }
 ],
 "metadata": {
  "kernelspec": {
   "display_name": "geno",
   "language": "python",
   "name": "python3"
  },
  "language_info": {
   "codemirror_mode": {
    "name": "ipython",
    "version": 3
   },
   "file_extension": ".py",
   "mimetype": "text/x-python",
   "name": "python",
   "nbconvert_exporter": "python",
   "pygments_lexer": "ipython3",
   "version": "3.7.8"
  }
 },
 "nbformat": 4,
 "nbformat_minor": 2
}
